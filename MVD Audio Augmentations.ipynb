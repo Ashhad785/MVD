{
 "cells": [
  {
   "cell_type": "code",
   "execution_count": null,
   "id": "db036706",
   "metadata": {},
   "outputs": [],
   "source": [
    "# import dependencies\n",
    "from glob import glob\n",
    "import librosa\n",
    "import librosa.display\n",
    "import numpy as np\n",
    "import soundfile as sf\n",
    "from librosa.util import fix_length\n",
    "import random"
   ]
  },
  {
   "cell_type": "code",
   "execution_count": null,
   "id": "c54deb29",
   "metadata": {},
   "outputs": [],
   "source": [
    "pth=glob(r\"<folder path>\\*wav\")"
   ]
  },
  {
   "cell_type": "code",
   "execution_count": null,
   "id": "de357295",
   "metadata": {},
   "outputs": [],
   "source": [
    "def time_stretch(signal, min_factor=0.8, max_factor=1.5):\n",
    "    stretch_rate=random.uniform(min_factor, max_factor)\n",
    "    return librosa.effects.time_stretch(signal,stretch_rate)"
   ]
  },
  {
   "cell_type": "code",
   "execution_count": null,
   "id": "1c7d2c82",
   "metadata": {},
   "outputs": [],
   "source": [
    "def random_gain(signal, min_factor=0.1, max_factor=2):\n",
    "    gain_rate = random.uniform(min_factor, max_factor)\n",
    "    augmented_signal = signal * gain_rate\n",
    "    return augmented_signal"
   ]
  },
  {
   "cell_type": "code",
   "execution_count": null,
   "id": "de3bbfe7",
   "metadata": {},
   "outputs": [],
   "source": [
    "def add_noise(data,min_factor,max_factor):\n",
    "        noise = np.random.randn(len(data))\n",
    "        rate = random.uniform(min_factor, max_factor)\n",
    "        data_noise = data + rate * noise\n",
    "        return data_noise"
   ]
  },
  {
   "cell_type": "code",
   "execution_count": null,
   "id": "ba71b0f4",
   "metadata": {},
   "outputs": [],
   "source": [
    "# Fucntion that calls original MVD audios, augments them and saved the augmented files in a new folder with a new name\n",
    "\n",
    "train_new=[]\n",
    "\n",
    "for aud in pth:\n",
    "    required_audio_size = 3\n",
    "    signal,sr=librosa.load(aud)\n",
    "#     augmented_signal=time_stretch(signal)\n",
    "#     augmented_signal=random_gain(signal)\n",
    "    augmented_signal=add_noise(signal,0.001,0.003)\n",
    "    padded_signal = fix_length(augmented_signal, size=required_audio_size*sr)\n",
    "   \n",
    "    aud = aud.replace('.wav', '')\n",
    "    aud=aud[49 :]\n",
    "    parts = aud.split('_')\n",
    "    parts[1]=parts[1]+\"A3\"\n",
    "    aud=\"_\".join(parts)\n",
    "    name=\"<path of new folder>\" + \"\\\\\"+ aud\n",
    "    name=name+\".wav\"\n",
    "    sf.write(file=name,data=padded_signal,samplerate=sr)\n",
    "    train_new.append(name)"
   ]
  }
 ],
 "metadata": {
  "kernelspec": {
   "display_name": "Python 3 (ipykernel)",
   "language": "python",
   "name": "python3"
  },
  "language_info": {
   "codemirror_mode": {
    "name": "ipython",
    "version": 3
   },
   "file_extension": ".py",
   "mimetype": "text/x-python",
   "name": "python",
   "nbconvert_exporter": "python",
   "pygments_lexer": "ipython3",
   "version": "3.9.7"
  }
 },
 "nbformat": 4,
 "nbformat_minor": 5
}
