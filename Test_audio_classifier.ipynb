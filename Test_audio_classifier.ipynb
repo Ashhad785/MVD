{
  "nbformat": 4,
  "nbformat_minor": 0,
  "metadata": {
    "colab": {
      "provenance": []
    },
    "kernelspec": {
      "name": "python3",
      "display_name": "Python 3"
    },
    "language_info": {
      "name": "python"
    }
  },
  "cells": [
    {
      "cell_type": "code",
      "source": [
        "# import all the dependencies\n",
        "import tensorflow as tf \n",
        "import numpy as np\n",
        "import librosa, librosa.display\n",
        "from librosa.util import fix_length\n",
        "import scipy as sp\n",
        "# !pip install spafe==0.2.0\n",
        "import spafe # make sure that the version of spafe installed is spafe==0.2.0\n",
        "from scipy.stats import kurtosis,skew,mode,gstd,describe,iqr,gmean,hmean,median_abs_deviation,variation,tstd,gstd,moment,entropy\n",
        "from spafe.features.gfcc import gfcc\n",
        "from sklearn.preprocessing import normalize\n",
        "\n",
        "model=tf.keras.models.load_model('/content/drive/MyDrive/Data/acoustic_classifier_mvd') # insert path of trained model here\n",
        "\n",
        "path='/content/drive/MyDrive/Eusipco Paper/Omar-Audios-All/Motorcycle/Recording_1001_O_M.wav'  #Insert path of audio fetched from the app\n",
        "\n",
        "y, sr = librosa.load(path)\n",
        "required_audio_size = 3\n",
        "padded_signal = fix_length(y, size=required_audio_size*sr) \n",
        "\n",
        "# code for matrix\n",
        "Matrix  = gfcc(sig=padded_signal, fs=sr, num_ceps=40,nfilts=128,nfft=2048,win_hop=0.0232,win_len=0.0464)\n",
        "Matrix=np.reshape(Matrix,[1,128,40])\n",
        "\n",
        "# code for vector\n",
        "ft=sp.fft.fft(y)\n",
        "magnitude=np.absolute(ft)\n",
        "hist=magnitude[0:11025]\n",
        "k=kurtosis(hist)\n",
        "s=skew(hist)\n",
        "mean=np.mean(hist)\n",
        "z=np.array(mode(hist)[0])\n",
        "mode_var=float(z)\n",
        "i=iqr(hist)\n",
        "g=gmean(hist)\n",
        "h=hmean(hist)\n",
        "dev=median_abs_deviation(hist)\n",
        "var=variation(hist)\n",
        "variance=np.var(hist)\n",
        "std=tstd(hist)\n",
        "gstd_var=gstd(hist)\n",
        "ent= entropy(hist)\n",
        "    \n",
        "\n",
        "features=[mode_var,k,s,mean,i,g,h,dev,var,variance,std,gstd_var,ent]\n",
        "vector=np.array(features)\n",
        "vector=normalize([vector])\n",
        "vector=np.reshape(vector,[1,13])\n",
        "\n",
        "# code for prediction\n",
        "\n",
        "predict=model.predict([vector,Matrix]) \n",
        "predict1=(predict > 0.5).astype(\"int32\")\n",
        "confidence=predict\n",
        "\n",
        "if predict1[0][0]==1:\n",
        "  print(\"It is a car\")\n",
        "  print(\"confidence is\",confidence[0][0]*100 ,\"%\" )\n",
        "elif predict1[0][1]==1:\n",
        "  print(\"It is a motorbike\")\n",
        "  print(\"confidence is\",confidence[0][1]*100,\"%\" )\n",
        "elif predict1[0][3]==1:\n",
        "  print(\"It is a truck\")\n",
        "  print(\"confidence is\",confidence[0][3]*100,\"%\" )\n",
        "else:\n",
        "  print(\"There is no vehicle in the audio\")\n",
        "\n",
        "# {'C': 0, 'M': 1, 'N': 2, 'T': 3}\n",
        "\n"
      ],
      "metadata": {
        "id": "18d5wF27Iep_",
        "colab": {
          "base_uri": "https://localhost:8080/"
        },
        "outputId": "f763fa71-23df-4304-c0ef-4622de4403af"
      },
      "execution_count": 21,
      "outputs": [
        {
          "output_type": "stream",
          "name": "stdout",
          "text": [
            "1/1 [==============================] - 0s 136ms/step\n",
            "It is a motorbike\n",
            "confidence is 94.07369494438171 %\n"
          ]
        }
      ]
    }
  ]
}